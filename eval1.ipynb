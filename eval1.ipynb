{
 "cells": [
  {
   "cell_type": "markdown",
   "metadata": {},
   "source": [
    "Ques1"
   ]
  },
  {
   "cell_type": "code",
   "execution_count": 10,
   "metadata": {},
   "outputs": [
    {
     "name": "stdout",
     "output_type": "stream",
     "text": [
      "world the in Nile The while India in river longest the is Ganges The \n"
     ]
    }
   ],
   "source": [
    "\n",
    " def reverse_words(s):\n",
    "    words = s.split()\n",
    "    reversed_sent=\"\"\n",
    "    for word in words:\n",
    "        reversed_sent=word +\" \"+reversed_sent\n",
    "    return reversed_sent\n",
    "\n",
    "s = \"The Ganges is the longest river in India while The Nile in the world\"\n",
    "print(reverse_words(s))"
   ]
  },
  {
   "cell_type": "markdown",
   "metadata": {},
   "source": [
    "ques2"
   ]
  },
  {
   "cell_type": "code",
   "execution_count": 15,
   "metadata": {},
   "outputs": [],
   "source": [
    "def count_letters(sentence):\n",
    "    letter_counts = {}\n",
    "    words = sentence.split()\n",
    "    for word in words:\n",
    "        for letter in word:\n",
    "            if letter in letter_counts:\n",
    "                letter_counts[letter] += 1\n",
    "            else:\n",
    "                letter_counts[letter] = 1\n",
    "    return letter_counts\n",
    "\n",
    "def word_counts(sentence):\n",
    "    word_counts = {}\n",
    "    words = sentence.split()\n",
    "    for word in words:\n",
    "        if word in word_counts:\n",
    "            word_counts[word]+=1\n",
    "        else:\n",
    "            word_counts[word]=1\n",
    "    return word_counts"
   ]
  },
  {
   "cell_type": "code",
   "execution_count": 16,
   "metadata": {},
   "outputs": [
    {
     "name": "stdout",
     "output_type": "stream",
     "text": [
      "Letter Counts:\n",
      "H: 1\n",
      "e: 5\n",
      "l: 3\n",
      "o: 2\n",
      "w: 1\n",
      "r: 1\n",
      "d: 1\n",
      ",: 1\n",
      "t: 4\n",
      "h: 1\n",
      "i: 2\n",
      "s: 4\n",
      "a: 1\n",
      "n: 2\n",
      "c: 1\n",
      ".: 1\n",
      "\n",
      "Word Counts:\n",
      "Hello: 1\n",
      "world,: 1\n",
      "this: 1\n",
      "is: 1\n",
      "a: 1\n",
      "test: 1\n",
      "sentence.: 1\n"
     ]
    }
   ],
   "source": [
    "sentence = \"Hello world, this is a test sentence.\"\n",
    "letter_counts=count_letters(sentence)\n",
    "word_counts = word_counts(sentence)\n",
    "print(\"Letter Counts:\")\n",
    "for letter, count in letter_counts.items():\n",
    "    print(f\"{letter}: {count}\")\n",
    "print(\"\\nWord Counts:\")\n",
    "for word, count in word_counts.items():\n",
    "    print(f\"{word}: {count}\")"
   ]
  },
  {
   "cell_type": "code",
   "execution_count": null,
   "metadata": {},
   "outputs": [],
   "source": []
  }
 ],
 "metadata": {
  "kernelspec": {
   "display_name": "Python 3",
   "language": "python",
   "name": "python3"
  },
  "language_info": {
   "codemirror_mode": {
    "name": "ipython",
    "version": 3
   },
   "file_extension": ".py",
   "mimetype": "text/x-python",
   "name": "python",
   "nbconvert_exporter": "python",
   "pygments_lexer": "ipython3",
   "version": "3.7.3"
  }
 },
 "nbformat": 4,
 "nbformat_minor": 2
}
